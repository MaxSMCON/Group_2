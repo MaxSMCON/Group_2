{
  "nbformat": 4,
  "nbformat_minor": 0,
  "metadata": {
    "colab": {
      "name": "Group 2 Stats.ipynb",
      "provenance": [],
      "collapsed_sections": [],
      "toc_visible": true,
      "include_colab_link": true
    },
    "kernelspec": {
      "display_name": "Python 3",
      "name": "python3"
    },
    "language_info": {
      "name": "python"
    }
  },
  "cells": [
    {
      "cell_type": "markdown",
      "metadata": {
        "id": "view-in-github",
        "colab_type": "text"
      },
      "source": [
        "<a href=\"https://colab.research.google.com/github/MaxSMCON/Group_2/blob/main/Group_2_Stats.ipynb\" target=\"_parent\"><img src=\"https://colab.research.google.com/assets/colab-badge.svg\" alt=\"Open In Colab\"/></a>"
      ]
    },
    {
      "cell_type": "markdown",
      "metadata": {
        "id": "Kq7ylt0kskHY"
      },
      "source": [
        "# Group 2 Project\n",
        "\n",
        "## Global food in \n",
        "\n",
        "in this project we are going to investigate "
      ]
    },
    {
      "cell_type": "code",
      "metadata": {
        "id": "wyyzH9Gq7wG9"
      },
      "source": [
        "# https://drive.google.com/file/d/1SbW8ns8H5HDE0FVH5pvZ5GkGUdPV_RgY/view?usp=sharing\n",
        "\n",
        "\n"
      ],
      "execution_count": 2,
      "outputs": []
    },
    {
      "cell_type": "code",
      "metadata": {
        "id": "ZnTZgQvSZX1u"
      },
      "source": [
        "import pandas as pd\n",
        "from pandas_profiling import ProfileReport\n",
        "\n",
        "import numpy as np\n",
        "import matplotlib as mpl\n",
        "import matplotlib.pyplot as plt\n",
        "plt.style.use(style='ggplot')\n",
        "import seaborn as sns\n",
        "%matplotlib inline\n",
        "from IPython.display import display\n",
        "import requests\n",
        "import io\n",
        "from io import StringIO\n",
        "# Sklearn\n",
        "from sklearn.model_selection import train_test_split, GridSearchCV \n",
        "from sklearn.metrics import f1_score, plot_confusion_matrix\n",
        "from sklearn.model_selection import cross_val_score\n",
        "\n",
        "from sklearn.linear_model import LinearRegression\n",
        "from sklearn.linear_model import LogisticRegression\n",
        "\n",
        "from sklearn.svm import SVC\n",
        "from sklearn import metrics\n",
        "\n",
        "# StatsModel\n",
        "from statsmodels.formula.api import ols\n",
        "import statsmodels.api as sm\n",
        "import statsmodels.formula.api as smf\n",
        "from statsmodels.stats.outliers_influence import variance_inflation_factor"
      ],
      "execution_count": 55,
      "outputs": []
    },
    {
      "cell_type": "code",
      "metadata": {
        "id": "E0WT9aqPZaXM"
      },
      "source": [
        "# 1MfuleO34g6ZP1saJ1Ej7J7p4SCWYkAmG1MfuleO34g6ZP1saJ1Ej7J7p4SCWYkAmG\n",
        "#https://drive.google.com/file/d/1SbW8ns8H5HDE0FVH5pvZ5GkGUdPV_RgY/view?usp=sharing\n",
        "\n",
        "# https://drive.google.com/file/d/1SbW8ns8H5HDE0FVH5pvZ5GkGUdPV_RgY/view?usp=sharing"
      ],
      "execution_count": 4,
      "outputs": []
    },
    {
      "cell_type": "markdown",
      "metadata": {
        "id": "j4O8Q80nuCLa"
      },
      "source": [
        "# Introduction"
      ]
    },
    {
      "cell_type": "markdown",
      "metadata": {
        "id": "WiMjWZlNbh74"
      },
      "source": [
        "# Loading the Glovbal Food dataset from goolgle drive [Fact Table]\n"
      ]
    },
    {
      "cell_type": "code",
      "metadata": {
        "id": "iadr-iI4Zs1l",
        "colab": {
          "base_uri": "https://localhost:8080/",
          "height": 382
        },
        "outputId": "1b496d31-a25e-4688-872d-2b01c34885cd"
      },
      "source": [
        "!pip install googledrivedownloader #black magic\n",
        "from google_drive_downloader import GoogleDriveDownloader as gdd\n",
        "gdd.download_file_from_google_drive(file_id=\"1SbW8ns8H5HDE0FVH5pvZ5GkGUdPV_RgY\",\n",
        "                                    dest_path=\"./global_food_prices.csv\",\n",
        "                                    unzip=False)\n",
        "data = pd.read_csv(\"global_food_prices.csv\")\n",
        "df = data.copy()\n",
        "df.head()"
      ],
      "execution_count": 5,
      "outputs": [
        {
          "output_type": "stream",
          "name": "stdout",
          "text": [
            "Requirement already satisfied: googledrivedownloader in /usr/local/lib/python3.7/dist-packages (0.4)\n",
            "Downloading 1SbW8ns8H5HDE0FVH5pvZ5GkGUdPV_RgY into ./global_food_prices.csv... Done.\n"
          ]
        },
        {
          "output_type": "stream",
          "name": "stderr",
          "text": [
            "/usr/local/lib/python3.7/dist-packages/IPython/core/interactiveshell.py:2718: DtypeWarning: Columns (3) have mixed types.Specify dtype option on import or set low_memory=False.\n",
            "  interactivity=interactivity, compiler=compiler, result=result)\n"
          ]
        },
        {
          "output_type": "execute_result",
          "data": {
            "text/html": [
              "<div>\n",
              "<style scoped>\n",
              "    .dataframe tbody tr th:only-of-type {\n",
              "        vertical-align: middle;\n",
              "    }\n",
              "\n",
              "    .dataframe tbody tr th {\n",
              "        vertical-align: top;\n",
              "    }\n",
              "\n",
              "    .dataframe thead th {\n",
              "        text-align: right;\n",
              "    }\n",
              "</style>\n",
              "<table border=\"1\" class=\"dataframe\">\n",
              "  <thead>\n",
              "    <tr style=\"text-align: right;\">\n",
              "      <th></th>\n",
              "      <th>adm0_id</th>\n",
              "      <th>adm0_name</th>\n",
              "      <th>adm1_id</th>\n",
              "      <th>adm1_name</th>\n",
              "      <th>mkt_id</th>\n",
              "      <th>mkt_name</th>\n",
              "      <th>cm_id</th>\n",
              "      <th>cm_name</th>\n",
              "      <th>cur_id</th>\n",
              "      <th>cur_name</th>\n",
              "      <th>pt_id</th>\n",
              "      <th>pt_name</th>\n",
              "      <th>um_id</th>\n",
              "      <th>um_name</th>\n",
              "      <th>mp_month</th>\n",
              "      <th>mp_year</th>\n",
              "      <th>mp_price</th>\n",
              "      <th>mp_commoditysource</th>\n",
              "    </tr>\n",
              "  </thead>\n",
              "  <tbody>\n",
              "    <tr>\n",
              "      <th>0</th>\n",
              "      <td>1.0</td>\n",
              "      <td>Afghanistan</td>\n",
              "      <td>272</td>\n",
              "      <td>Badakhshan</td>\n",
              "      <td>266</td>\n",
              "      <td>Fayzabad</td>\n",
              "      <td>55</td>\n",
              "      <td>Bread - Retail</td>\n",
              "      <td>0.0</td>\n",
              "      <td>AFN</td>\n",
              "      <td>15</td>\n",
              "      <td>Retail</td>\n",
              "      <td>5</td>\n",
              "      <td>KG</td>\n",
              "      <td>1</td>\n",
              "      <td>2014</td>\n",
              "      <td>50.0</td>\n",
              "      <td>NaN</td>\n",
              "    </tr>\n",
              "    <tr>\n",
              "      <th>1</th>\n",
              "      <td>1.0</td>\n",
              "      <td>Afghanistan</td>\n",
              "      <td>272</td>\n",
              "      <td>Badakhshan</td>\n",
              "      <td>266</td>\n",
              "      <td>Fayzabad</td>\n",
              "      <td>55</td>\n",
              "      <td>Bread - Retail</td>\n",
              "      <td>0.0</td>\n",
              "      <td>AFN</td>\n",
              "      <td>15</td>\n",
              "      <td>Retail</td>\n",
              "      <td>5</td>\n",
              "      <td>KG</td>\n",
              "      <td>2</td>\n",
              "      <td>2014</td>\n",
              "      <td>50.0</td>\n",
              "      <td>NaN</td>\n",
              "    </tr>\n",
              "    <tr>\n",
              "      <th>2</th>\n",
              "      <td>1.0</td>\n",
              "      <td>Afghanistan</td>\n",
              "      <td>272</td>\n",
              "      <td>Badakhshan</td>\n",
              "      <td>266</td>\n",
              "      <td>Fayzabad</td>\n",
              "      <td>55</td>\n",
              "      <td>Bread - Retail</td>\n",
              "      <td>0.0</td>\n",
              "      <td>AFN</td>\n",
              "      <td>15</td>\n",
              "      <td>Retail</td>\n",
              "      <td>5</td>\n",
              "      <td>KG</td>\n",
              "      <td>3</td>\n",
              "      <td>2014</td>\n",
              "      <td>50.0</td>\n",
              "      <td>NaN</td>\n",
              "    </tr>\n",
              "    <tr>\n",
              "      <th>3</th>\n",
              "      <td>1.0</td>\n",
              "      <td>Afghanistan</td>\n",
              "      <td>272</td>\n",
              "      <td>Badakhshan</td>\n",
              "      <td>266</td>\n",
              "      <td>Fayzabad</td>\n",
              "      <td>55</td>\n",
              "      <td>Bread - Retail</td>\n",
              "      <td>0.0</td>\n",
              "      <td>AFN</td>\n",
              "      <td>15</td>\n",
              "      <td>Retail</td>\n",
              "      <td>5</td>\n",
              "      <td>KG</td>\n",
              "      <td>4</td>\n",
              "      <td>2014</td>\n",
              "      <td>50.0</td>\n",
              "      <td>NaN</td>\n",
              "    </tr>\n",
              "    <tr>\n",
              "      <th>4</th>\n",
              "      <td>1.0</td>\n",
              "      <td>Afghanistan</td>\n",
              "      <td>272</td>\n",
              "      <td>Badakhshan</td>\n",
              "      <td>266</td>\n",
              "      <td>Fayzabad</td>\n",
              "      <td>55</td>\n",
              "      <td>Bread - Retail</td>\n",
              "      <td>0.0</td>\n",
              "      <td>AFN</td>\n",
              "      <td>15</td>\n",
              "      <td>Retail</td>\n",
              "      <td>5</td>\n",
              "      <td>KG</td>\n",
              "      <td>5</td>\n",
              "      <td>2014</td>\n",
              "      <td>50.0</td>\n",
              "      <td>NaN</td>\n",
              "    </tr>\n",
              "  </tbody>\n",
              "</table>\n",
              "</div>"
            ],
            "text/plain": [
              "   adm0_id    adm0_name  adm1_id  ... mp_year  mp_price mp_commoditysource\n",
              "0      1.0  Afghanistan      272  ...    2014      50.0                NaN\n",
              "1      1.0  Afghanistan      272  ...    2014      50.0                NaN\n",
              "2      1.0  Afghanistan      272  ...    2014      50.0                NaN\n",
              "3      1.0  Afghanistan      272  ...    2014      50.0                NaN\n",
              "4      1.0  Afghanistan      272  ...    2014      50.0                NaN\n",
              "\n",
              "[5 rows x 18 columns]"
            ]
          },
          "metadata": {},
          "execution_count": 5
        }
      ]
    },
    {
      "cell_type": "code",
      "metadata": {
        "id": "Rxh2JPKQobHJ"
      },
      "source": [
        ""
      ],
      "execution_count": 5,
      "outputs": []
    },
    {
      "cell_type": "markdown",
      "metadata": {
        "id": "56oPmZmYorc4"
      },
      "source": [
        "## Loading GDP data from GitHub "
      ]
    },
    {
      "cell_type": "code",
      "metadata": {
        "colab": {
          "base_uri": "https://localhost:8080/",
          "height": 639
        },
        "id": "7AQLctkBxr51",
        "outputId": "e35a4099-03ac-4544-b37a-f2c7dbc87480"
      },
      "source": [
        "url = 'https://raw.githubusercontent.com/MaxSMCON/Group_2/main/Data%20Storage/GDP.csv'\n",
        "df_gdp = pd.read_csv(url, index_col=0, encoding= 'latin-1' )\n",
        "# df2 = df_gdp.melt(id_vars=[\"Country\", \"Subject Descriptor\",\"Units\",\"Scale\",\"Country/Series-specific Notes\"],var_name=\"Year\",value_name=\"Value\")\n",
        "df_gdp.head()"
      ],
      "execution_count": 60,
      "outputs": [
        {
          "output_type": "execute_result",
          "data": {
            "text/html": [
              "<div>\n",
              "<style scoped>\n",
              "    .dataframe tbody tr th:only-of-type {\n",
              "        vertical-align: middle;\n",
              "    }\n",
              "\n",
              "    .dataframe tbody tr th {\n",
              "        vertical-align: top;\n",
              "    }\n",
              "\n",
              "    .dataframe thead th {\n",
              "        text-align: right;\n",
              "    }\n",
              "</style>\n",
              "<table border=\"1\" class=\"dataframe\">\n",
              "  <thead>\n",
              "    <tr style=\"text-align: right;\">\n",
              "      <th></th>\n",
              "      <th>Subject Descriptor</th>\n",
              "      <th>Units</th>\n",
              "      <th>Scale</th>\n",
              "      <th>Country/Series-specific Notes</th>\n",
              "      <th>1991</th>\n",
              "      <th>1992</th>\n",
              "      <th>1993</th>\n",
              "      <th>1994</th>\n",
              "      <th>1995</th>\n",
              "      <th>1996</th>\n",
              "      <th>1997</th>\n",
              "      <th>1998</th>\n",
              "      <th>1999</th>\n",
              "      <th>2000</th>\n",
              "      <th>2001</th>\n",
              "      <th>2002</th>\n",
              "      <th>2003</th>\n",
              "      <th>2004</th>\n",
              "      <th>2005</th>\n",
              "      <th>2006</th>\n",
              "      <th>2007</th>\n",
              "      <th>2008</th>\n",
              "      <th>2009</th>\n",
              "      <th>2010</th>\n",
              "      <th>2011</th>\n",
              "      <th>2012</th>\n",
              "      <th>2013</th>\n",
              "      <th>2014</th>\n",
              "      <th>2015</th>\n",
              "      <th>2016</th>\n",
              "      <th>2017</th>\n",
              "      <th>2018</th>\n",
              "      <th>2019</th>\n",
              "      <th>2020</th>\n",
              "      <th>2021</th>\n",
              "      <th>Estimates Start After</th>\n",
              "    </tr>\n",
              "    <tr>\n",
              "      <th>Country</th>\n",
              "      <th></th>\n",
              "      <th></th>\n",
              "      <th></th>\n",
              "      <th></th>\n",
              "      <th></th>\n",
              "      <th></th>\n",
              "      <th></th>\n",
              "      <th></th>\n",
              "      <th></th>\n",
              "      <th></th>\n",
              "      <th></th>\n",
              "      <th></th>\n",
              "      <th></th>\n",
              "      <th></th>\n",
              "      <th></th>\n",
              "      <th></th>\n",
              "      <th></th>\n",
              "      <th></th>\n",
              "      <th></th>\n",
              "      <th></th>\n",
              "      <th></th>\n",
              "      <th></th>\n",
              "      <th></th>\n",
              "      <th></th>\n",
              "      <th></th>\n",
              "      <th></th>\n",
              "      <th></th>\n",
              "      <th></th>\n",
              "      <th></th>\n",
              "      <th></th>\n",
              "      <th></th>\n",
              "      <th></th>\n",
              "      <th></th>\n",
              "      <th></th>\n",
              "      <th></th>\n",
              "      <th></th>\n",
              "    </tr>\n",
              "  </thead>\n",
              "  <tbody>\n",
              "    <tr>\n",
              "      <th>Afghanistan</th>\n",
              "      <td>Gross domestic product, constant prices</td>\n",
              "      <td>National currency</td>\n",
              "      <td>Billions</td>\n",
              "      <td>Source: National Statistics Office Latest actu...</td>\n",
              "      <td>NaN</td>\n",
              "      <td>NaN</td>\n",
              "      <td>NaN</td>\n",
              "      <td>NaN</td>\n",
              "      <td>NaN</td>\n",
              "      <td>NaN</td>\n",
              "      <td>NaN</td>\n",
              "      <td>NaN</td>\n",
              "      <td>NaN</td>\n",
              "      <td>NaN</td>\n",
              "      <td>NaN</td>\n",
              "      <td>453.484</td>\n",
              "      <td>492.903</td>\n",
              "      <td>496.209</td>\n",
              "      <td>554.91</td>\n",
              "      <td>584.658</td>\n",
              "      <td>662.65</td>\n",
              "      <td>688.247</td>\n",
              "      <td>829.924</td>\n",
              "      <td>899.956</td>\n",
              "      <td>958.266</td>\n",
              "      <td>1,092.12</td>\n",
              "      <td>1,154.18</td>\n",
              "      <td>1,185.31</td>\n",
              "      <td>1,197.01</td>\n",
              "      <td>1,222.92</td>\n",
              "      <td>1,255.29</td>\n",
              "      <td>1,270.22</td>\n",
              "      <td>1,319.90</td>\n",
              "      <td>1,288.87</td>\n",
              "      <td>NaN</td>\n",
              "      <td>2019.0</td>\n",
              "    </tr>\n",
              "    <tr>\n",
              "      <th>Albania</th>\n",
              "      <td>Gross domestic product, constant prices</td>\n",
              "      <td>National currency</td>\n",
              "      <td>Billions</td>\n",
              "      <td>Source: IMF Staff Estimates. Official national...</td>\n",
              "      <td>252.921</td>\n",
              "      <td>234.711</td>\n",
              "      <td>257.243</td>\n",
              "      <td>281.424</td>\n",
              "      <td>306.47</td>\n",
              "      <td>334.359</td>\n",
              "      <td>297.833</td>\n",
              "      <td>324.13</td>\n",
              "      <td>365.912</td>\n",
              "      <td>391.33</td>\n",
              "      <td>423.784</td>\n",
              "      <td>443.009</td>\n",
              "      <td>467.501</td>\n",
              "      <td>493.283</td>\n",
              "      <td>520.544</td>\n",
              "      <td>551.27</td>\n",
              "      <td>584.254</td>\n",
              "      <td>628.073</td>\n",
              "      <td>649.141</td>\n",
              "      <td>673.204</td>\n",
              "      <td>690.339</td>\n",
              "      <td>700.125</td>\n",
              "      <td>707.14</td>\n",
              "      <td>719.688</td>\n",
              "      <td>735.657</td>\n",
              "      <td>760.042</td>\n",
              "      <td>788.941</td>\n",
              "      <td>821.061</td>\n",
              "      <td>838.908</td>\n",
              "      <td>811.13</td>\n",
              "      <td>854.12</td>\n",
              "      <td>2020.0</td>\n",
              "    </tr>\n",
              "    <tr>\n",
              "      <th>Algeria</th>\n",
              "      <td>Gross domestic product, constant prices</td>\n",
              "      <td>National currency</td>\n",
              "      <td>Billions</td>\n",
              "      <td>Source: National Statistics Office Latest actu...</td>\n",
              "      <td>3,393.45</td>\n",
              "      <td>3,447.74</td>\n",
              "      <td>3,375.25</td>\n",
              "      <td>3,344.88</td>\n",
              "      <td>3,473.58</td>\n",
              "      <td>3,605.57</td>\n",
              "      <td>3,645.24</td>\n",
              "      <td>3,831.14</td>\n",
              "      <td>3,953.74</td>\n",
              "      <td>4,103.98</td>\n",
              "      <td>4,227.10</td>\n",
              "      <td>4,463.82</td>\n",
              "      <td>4,785.21</td>\n",
              "      <td>4,990.98</td>\n",
              "      <td>5,285.44</td>\n",
              "      <td>5,374.48</td>\n",
              "      <td>5,555.75</td>\n",
              "      <td>5,686.88</td>\n",
              "      <td>5,779.70</td>\n",
              "      <td>5,988.70</td>\n",
              "      <td>6,162.37</td>\n",
              "      <td>6,371.89</td>\n",
              "      <td>6,550.30</td>\n",
              "      <td>6,799.22</td>\n",
              "      <td>7,050.79</td>\n",
              "      <td>7,276.41</td>\n",
              "      <td>7,378.28</td>\n",
              "      <td>7,466.82</td>\n",
              "      <td>7,526.56</td>\n",
              "      <td>7,157.75</td>\n",
              "      <td>7,401.85</td>\n",
              "      <td>2019.0</td>\n",
              "    </tr>\n",
              "    <tr>\n",
              "      <th>Andorra</th>\n",
              "      <td>Gross domestic product, constant prices</td>\n",
              "      <td>National currency</td>\n",
              "      <td>Billions</td>\n",
              "      <td>Source: National Statistics Office. Ministry o...</td>\n",
              "      <td>NaN</td>\n",
              "      <td>NaN</td>\n",
              "      <td>NaN</td>\n",
              "      <td>NaN</td>\n",
              "      <td>NaN</td>\n",
              "      <td>NaN</td>\n",
              "      <td>NaN</td>\n",
              "      <td>NaN</td>\n",
              "      <td>NaN</td>\n",
              "      <td>1.992</td>\n",
              "      <td>2.153</td>\n",
              "      <td>2.251</td>\n",
              "      <td>2.447</td>\n",
              "      <td>2.646</td>\n",
              "      <td>2.789</td>\n",
              "      <td>2.923</td>\n",
              "      <td>2.968</td>\n",
              "      <td>2.803</td>\n",
              "      <td>2.655</td>\n",
              "      <td>2.602</td>\n",
              "      <td>2.602</td>\n",
              "      <td>2.473</td>\n",
              "      <td>2.385</td>\n",
              "      <td>2.445</td>\n",
              "      <td>2.48</td>\n",
              "      <td>2.572</td>\n",
              "      <td>2.581</td>\n",
              "      <td>2.622</td>\n",
              "      <td>2.675</td>\n",
              "      <td>2.354</td>\n",
              "      <td>2.484</td>\n",
              "      <td>2020.0</td>\n",
              "    </tr>\n",
              "    <tr>\n",
              "      <th>Angola</th>\n",
              "      <td>Gross domestic product, constant prices</td>\n",
              "      <td>National currency</td>\n",
              "      <td>Billions</td>\n",
              "      <td>Source: National Statistics Office. Ministry o...</td>\n",
              "      <td>283.298</td>\n",
              "      <td>315.601</td>\n",
              "      <td>350.22</td>\n",
              "      <td>387.031</td>\n",
              "      <td>427.141</td>\n",
              "      <td>475.013</td>\n",
              "      <td>509.567</td>\n",
              "      <td>533.472</td>\n",
              "      <td>545.109</td>\n",
              "      <td>561.76</td>\n",
              "      <td>585.388</td>\n",
              "      <td>665.385</td>\n",
              "      <td>685.279</td>\n",
              "      <td>760.338</td>\n",
              "      <td>874.608</td>\n",
              "      <td>975.606</td>\n",
              "      <td>1,112.29</td>\n",
              "      <td>1,236.49</td>\n",
              "      <td>1,247.10</td>\n",
              "      <td>1,307.70</td>\n",
              "      <td>1,353.11</td>\n",
              "      <td>1,468.69</td>\n",
              "      <td>1,541.46</td>\n",
              "      <td>1,615.80</td>\n",
              "      <td>1,631.04</td>\n",
              "      <td>1,588.96</td>\n",
              "      <td>1,586.58</td>\n",
              "      <td>1,554.12</td>\n",
              "      <td>1,545.80</td>\n",
              "      <td>1,462.56</td>\n",
              "      <td>1,452.98</td>\n",
              "      <td>2020.0</td>\n",
              "    </tr>\n",
              "  </tbody>\n",
              "</table>\n",
              "</div>"
            ],
            "text/plain": [
              "                                  Subject Descriptor  ... Estimates Start After\n",
              "Country                                               ...                      \n",
              "Afghanistan  Gross domestic product, constant prices  ...                2019.0\n",
              "Albania      Gross domestic product, constant prices  ...                2020.0\n",
              "Algeria      Gross domestic product, constant prices  ...                2019.0\n",
              "Andorra      Gross domestic product, constant prices  ...                2020.0\n",
              "Angola       Gross domestic product, constant prices  ...                2020.0\n",
              "\n",
              "[5 rows x 36 columns]"
            ]
          },
          "metadata": {},
          "execution_count": 60
        }
      ]
    },
    {
      "cell_type": "markdown",
      "metadata": {
        "id": "mXDze6Uoo3OI"
      },
      "source": [
        "## loading cost of living dataset from GitHUb"
      ]
    },
    {
      "cell_type": "code",
      "metadata": {
        "colab": {
          "base_uri": "https://localhost:8080/",
          "height": 272
        },
        "id": "8Bh_ISjVysap",
        "outputId": "a24b8dcc-5d33-4707-9f5e-4e6106027c2a"
      },
      "source": [
        "url1 = 'https://raw.githubusercontent.com/MaxSMCON/Group_2/main/Data%20Storage/cost%20of%20living%202020.csv'\n",
        "df_cost = pd.read_csv(url1,index_col=0)\n",
        "df_cost.head()"
      ],
      "execution_count": 7,
      "outputs": [
        {
          "output_type": "execute_result",
          "data": {
            "text/html": [
              "<div>\n",
              "<style scoped>\n",
              "    .dataframe tbody tr th:only-of-type {\n",
              "        vertical-align: middle;\n",
              "    }\n",
              "\n",
              "    .dataframe tbody tr th {\n",
              "        vertical-align: top;\n",
              "    }\n",
              "\n",
              "    .dataframe thead th {\n",
              "        text-align: right;\n",
              "    }\n",
              "</style>\n",
              "<table border=\"1\" class=\"dataframe\">\n",
              "  <thead>\n",
              "    <tr style=\"text-align: right;\">\n",
              "      <th></th>\n",
              "      <th>Country</th>\n",
              "      <th>Cost of Living Index</th>\n",
              "      <th>Rent Index</th>\n",
              "      <th>Cost of Living Plus Rent Index</th>\n",
              "      <th>Groceries Index</th>\n",
              "      <th>Restaurant Price Index</th>\n",
              "      <th>Local Purchasing Power Index</th>\n",
              "      <th>McMeal($)</th>\n",
              "      <th>Unnamed: 9</th>\n",
              "    </tr>\n",
              "    <tr>\n",
              "      <th>Rank 2020</th>\n",
              "      <th></th>\n",
              "      <th></th>\n",
              "      <th></th>\n",
              "      <th></th>\n",
              "      <th></th>\n",
              "      <th></th>\n",
              "      <th></th>\n",
              "      <th></th>\n",
              "      <th></th>\n",
              "    </tr>\n",
              "  </thead>\n",
              "  <tbody>\n",
              "    <tr>\n",
              "      <th>1</th>\n",
              "      <td>Bermuda</td>\n",
              "      <td>147.77</td>\n",
              "      <td>85.70</td>\n",
              "      <td>117.54</td>\n",
              "      <td>146.63</td>\n",
              "      <td>152.52</td>\n",
              "      <td>78.17</td>\n",
              "      <td>0.00</td>\n",
              "      <td>NaN</td>\n",
              "    </tr>\n",
              "    <tr>\n",
              "      <th>2</th>\n",
              "      <td>Switzerland</td>\n",
              "      <td>125.69</td>\n",
              "      <td>51.20</td>\n",
              "      <td>89.41</td>\n",
              "      <td>124.93</td>\n",
              "      <td>118.55</td>\n",
              "      <td>114.83</td>\n",
              "      <td>15.36</td>\n",
              "      <td>NaN</td>\n",
              "    </tr>\n",
              "    <tr>\n",
              "      <th>3</th>\n",
              "      <td>Norway</td>\n",
              "      <td>96.80</td>\n",
              "      <td>32.61</td>\n",
              "      <td>65.54</td>\n",
              "      <td>89.55</td>\n",
              "      <td>96.81</td>\n",
              "      <td>83.40</td>\n",
              "      <td>12.36</td>\n",
              "      <td>NaN</td>\n",
              "    </tr>\n",
              "    <tr>\n",
              "      <th>4</th>\n",
              "      <td>Iceland</td>\n",
              "      <td>90.19</td>\n",
              "      <td>38.54</td>\n",
              "      <td>65.04</td>\n",
              "      <td>80.91</td>\n",
              "      <td>97.17</td>\n",
              "      <td>74.78</td>\n",
              "      <td>13.31</td>\n",
              "      <td>NaN</td>\n",
              "    </tr>\n",
              "    <tr>\n",
              "      <th>5</th>\n",
              "      <td>Japan</td>\n",
              "      <td>86.22</td>\n",
              "      <td>26.18</td>\n",
              "      <td>56.98</td>\n",
              "      <td>86.84</td>\n",
              "      <td>48.07</td>\n",
              "      <td>78.88</td>\n",
              "      <td>6.70</td>\n",
              "      <td>NaN</td>\n",
              "    </tr>\n",
              "  </tbody>\n",
              "</table>\n",
              "</div>"
            ],
            "text/plain": [
              "               Country  Cost of Living Index  ...  McMeal($)  Unnamed: 9\n",
              "Rank 2020                                     ...                       \n",
              "1              Bermuda                147.77  ...       0.00         NaN\n",
              "2          Switzerland                125.69  ...      15.36         NaN\n",
              "3               Norway                 96.80  ...      12.36         NaN\n",
              "4              Iceland                 90.19  ...      13.31         NaN\n",
              "5                Japan                 86.22  ...       6.70         NaN\n",
              "\n",
              "[5 rows x 9 columns]"
            ]
          },
          "metadata": {},
          "execution_count": 7
        }
      ]
    },
    {
      "cell_type": "markdown",
      "metadata": {
        "id": "OZBkk6k4WSBL"
      },
      "source": [
        "## LOADING Countries list by region [Dimension Table]"
      ]
    },
    {
      "cell_type": "code",
      "metadata": {
        "colab": {
          "base_uri": "https://localhost:8080/",
          "height": 237
        },
        "id": "cKbRrIAHWZWu",
        "outputId": "a3eeff90-5543-4b03-9543-c82b4c3a53e7"
      },
      "source": [
        "url = 'https://raw.githubusercontent.com/MaxSMCON/Group_2/main/Data%20Storage/UNSD%20%E2%80%94%20Methodology.csv '\n",
        "df_countries = pd.read_csv(url, index_col=0)\n",
        "df_region = df_countries[['Region Name','Intermediate Region Name','Country or Area'] ]\n",
        "df_region = df_region.rename( columns = {'Region Name': 'Continent', 'Intermediate Region Name': 'Region', 'Country or Area': 'Country' })\n",
        "df_region.head()\n"
      ],
      "execution_count": 8,
      "outputs": [
        {
          "output_type": "execute_result",
          "data": {
            "text/html": [
              "<div>\n",
              "<style scoped>\n",
              "    .dataframe tbody tr th:only-of-type {\n",
              "        vertical-align: middle;\n",
              "    }\n",
              "\n",
              "    .dataframe tbody tr th {\n",
              "        vertical-align: top;\n",
              "    }\n",
              "\n",
              "    .dataframe thead th {\n",
              "        text-align: right;\n",
              "    }\n",
              "</style>\n",
              "<table border=\"1\" class=\"dataframe\">\n",
              "  <thead>\n",
              "    <tr style=\"text-align: right;\">\n",
              "      <th></th>\n",
              "      <th>Continent</th>\n",
              "      <th>Region</th>\n",
              "      <th>Country</th>\n",
              "    </tr>\n",
              "    <tr>\n",
              "      <th>Global Code</th>\n",
              "      <th></th>\n",
              "      <th></th>\n",
              "      <th></th>\n",
              "    </tr>\n",
              "  </thead>\n",
              "  <tbody>\n",
              "    <tr>\n",
              "      <th>1</th>\n",
              "      <td>Africa</td>\n",
              "      <td>Northern Africa</td>\n",
              "      <td>Algeria</td>\n",
              "    </tr>\n",
              "    <tr>\n",
              "      <th>1</th>\n",
              "      <td>Africa</td>\n",
              "      <td>Northern Africa</td>\n",
              "      <td>Egypt</td>\n",
              "    </tr>\n",
              "    <tr>\n",
              "      <th>1</th>\n",
              "      <td>Africa</td>\n",
              "      <td>Northern Africa</td>\n",
              "      <td>Libya</td>\n",
              "    </tr>\n",
              "    <tr>\n",
              "      <th>1</th>\n",
              "      <td>Africa</td>\n",
              "      <td>Northern Africa</td>\n",
              "      <td>Morocco</td>\n",
              "    </tr>\n",
              "    <tr>\n",
              "      <th>1</th>\n",
              "      <td>Africa</td>\n",
              "      <td>Northern Africa</td>\n",
              "      <td>Sudan</td>\n",
              "    </tr>\n",
              "  </tbody>\n",
              "</table>\n",
              "</div>"
            ],
            "text/plain": [
              "            Continent           Region  Country\n",
              "Global Code                                    \n",
              "1              Africa  Northern Africa  Algeria\n",
              "1              Africa  Northern Africa    Egypt\n",
              "1              Africa  Northern Africa    Libya\n",
              "1              Africa  Northern Africa  Morocco\n",
              "1              Africa  Northern Africa    Sudan"
            ]
          },
          "metadata": {},
          "execution_count": 8
        }
      ]
    },
    {
      "cell_type": "code",
      "metadata": {
        "id": "pS19h6DUXDsX"
      },
      "source": [
        "# Removing duplicates from country list\n",
        "df_region = df_region.drop_duplicates(subset = ['Country'])\n"
      ],
      "execution_count": 9,
      "outputs": []
    },
    {
      "cell_type": "code",
      "metadata": {
        "id": "EkF5tnPNnH76"
      },
      "source": [
        "df_region.dropna(inplace=True)"
      ],
      "execution_count": 10,
      "outputs": []
    },
    {
      "cell_type": "code",
      "metadata": {
        "colab": {
          "base_uri": "https://localhost:8080/"
        },
        "id": "Jzdbh7Z-mi7u",
        "outputId": "d1cbea6f-ca7b-44f6-fb42-f2419ecd60f8"
      },
      "source": [
        "df_region.isnull().sum()"
      ],
      "execution_count": 11,
      "outputs": [
        {
          "output_type": "execute_result",
          "data": {
            "text/plain": [
              "Continent    0\n",
              "Region       0\n",
              "Country      0\n",
              "dtype: int64"
            ]
          },
          "metadata": {},
          "execution_count": 11
        }
      ]
    },
    {
      "cell_type": "code",
      "metadata": {
        "colab": {
          "base_uri": "https://localhost:8080/",
          "height": 313
        },
        "id": "wOXTWVpugf4i",
        "outputId": "47fecf1c-3363-4cb5-81b4-0fff17f74384"
      },
      "source": [
        "df = data.copy()\n",
        "df.head()"
      ],
      "execution_count": 25,
      "outputs": [
        {
          "output_type": "execute_result",
          "data": {
            "text/html": [
              "<div>\n",
              "<style scoped>\n",
              "    .dataframe tbody tr th:only-of-type {\n",
              "        vertical-align: middle;\n",
              "    }\n",
              "\n",
              "    .dataframe tbody tr th {\n",
              "        vertical-align: top;\n",
              "    }\n",
              "\n",
              "    .dataframe thead th {\n",
              "        text-align: right;\n",
              "    }\n",
              "</style>\n",
              "<table border=\"1\" class=\"dataframe\">\n",
              "  <thead>\n",
              "    <tr style=\"text-align: right;\">\n",
              "      <th></th>\n",
              "      <th>adm0_id</th>\n",
              "      <th>adm0_name</th>\n",
              "      <th>adm1_id</th>\n",
              "      <th>adm1_name</th>\n",
              "      <th>mkt_id</th>\n",
              "      <th>mkt_name</th>\n",
              "      <th>cm_id</th>\n",
              "      <th>cm_name</th>\n",
              "      <th>cur_id</th>\n",
              "      <th>cur_name</th>\n",
              "      <th>pt_id</th>\n",
              "      <th>pt_name</th>\n",
              "      <th>um_id</th>\n",
              "      <th>um_name</th>\n",
              "      <th>mp_month</th>\n",
              "      <th>mp_year</th>\n",
              "      <th>mp_price</th>\n",
              "      <th>mp_commoditysource</th>\n",
              "    </tr>\n",
              "  </thead>\n",
              "  <tbody>\n",
              "    <tr>\n",
              "      <th>0</th>\n",
              "      <td>1.0</td>\n",
              "      <td>Afghanistan</td>\n",
              "      <td>272</td>\n",
              "      <td>Badakhshan</td>\n",
              "      <td>266</td>\n",
              "      <td>Fayzabad</td>\n",
              "      <td>55</td>\n",
              "      <td>Bread - Retail</td>\n",
              "      <td>0.0</td>\n",
              "      <td>AFN</td>\n",
              "      <td>15</td>\n",
              "      <td>Retail</td>\n",
              "      <td>5</td>\n",
              "      <td>KG</td>\n",
              "      <td>1</td>\n",
              "      <td>2014</td>\n",
              "      <td>50.0</td>\n",
              "      <td>NaN</td>\n",
              "    </tr>\n",
              "    <tr>\n",
              "      <th>1</th>\n",
              "      <td>1.0</td>\n",
              "      <td>Afghanistan</td>\n",
              "      <td>272</td>\n",
              "      <td>Badakhshan</td>\n",
              "      <td>266</td>\n",
              "      <td>Fayzabad</td>\n",
              "      <td>55</td>\n",
              "      <td>Bread - Retail</td>\n",
              "      <td>0.0</td>\n",
              "      <td>AFN</td>\n",
              "      <td>15</td>\n",
              "      <td>Retail</td>\n",
              "      <td>5</td>\n",
              "      <td>KG</td>\n",
              "      <td>2</td>\n",
              "      <td>2014</td>\n",
              "      <td>50.0</td>\n",
              "      <td>NaN</td>\n",
              "    </tr>\n",
              "    <tr>\n",
              "      <th>2</th>\n",
              "      <td>1.0</td>\n",
              "      <td>Afghanistan</td>\n",
              "      <td>272</td>\n",
              "      <td>Badakhshan</td>\n",
              "      <td>266</td>\n",
              "      <td>Fayzabad</td>\n",
              "      <td>55</td>\n",
              "      <td>Bread - Retail</td>\n",
              "      <td>0.0</td>\n",
              "      <td>AFN</td>\n",
              "      <td>15</td>\n",
              "      <td>Retail</td>\n",
              "      <td>5</td>\n",
              "      <td>KG</td>\n",
              "      <td>3</td>\n",
              "      <td>2014</td>\n",
              "      <td>50.0</td>\n",
              "      <td>NaN</td>\n",
              "    </tr>\n",
              "    <tr>\n",
              "      <th>3</th>\n",
              "      <td>1.0</td>\n",
              "      <td>Afghanistan</td>\n",
              "      <td>272</td>\n",
              "      <td>Badakhshan</td>\n",
              "      <td>266</td>\n",
              "      <td>Fayzabad</td>\n",
              "      <td>55</td>\n",
              "      <td>Bread - Retail</td>\n",
              "      <td>0.0</td>\n",
              "      <td>AFN</td>\n",
              "      <td>15</td>\n",
              "      <td>Retail</td>\n",
              "      <td>5</td>\n",
              "      <td>KG</td>\n",
              "      <td>4</td>\n",
              "      <td>2014</td>\n",
              "      <td>50.0</td>\n",
              "      <td>NaN</td>\n",
              "    </tr>\n",
              "    <tr>\n",
              "      <th>4</th>\n",
              "      <td>1.0</td>\n",
              "      <td>Afghanistan</td>\n",
              "      <td>272</td>\n",
              "      <td>Badakhshan</td>\n",
              "      <td>266</td>\n",
              "      <td>Fayzabad</td>\n",
              "      <td>55</td>\n",
              "      <td>Bread - Retail</td>\n",
              "      <td>0.0</td>\n",
              "      <td>AFN</td>\n",
              "      <td>15</td>\n",
              "      <td>Retail</td>\n",
              "      <td>5</td>\n",
              "      <td>KG</td>\n",
              "      <td>5</td>\n",
              "      <td>2014</td>\n",
              "      <td>50.0</td>\n",
              "      <td>NaN</td>\n",
              "    </tr>\n",
              "  </tbody>\n",
              "</table>\n",
              "</div>"
            ],
            "text/plain": [
              "   adm0_id    adm0_name  adm1_id  ... mp_year  mp_price mp_commoditysource\n",
              "0      1.0  Afghanistan      272  ...    2014      50.0                NaN\n",
              "1      1.0  Afghanistan      272  ...    2014      50.0                NaN\n",
              "2      1.0  Afghanistan      272  ...    2014      50.0                NaN\n",
              "3      1.0  Afghanistan      272  ...    2014      50.0                NaN\n",
              "4      1.0  Afghanistan      272  ...    2014      50.0                NaN\n",
              "\n",
              "[5 rows x 18 columns]"
            ]
          },
          "metadata": {},
          "execution_count": 25
        }
      ]
    },
    {
      "cell_type": "markdown",
      "metadata": {
        "id": "VxERukDBY7gT"
      },
      "source": [
        "## Child Mortality Upload "
      ]
    },
    {
      "cell_type": "code",
      "metadata": {
        "colab": {
          "base_uri": "https://localhost:8080/",
          "height": 237
        },
        "id": "2m0i0pnrZEW8",
        "outputId": "7db2c050-e595-495b-c308-3064ed7a5308"
      },
      "source": [
        "url = 'https://raw.githubusercontent.com/MaxSMCON/Group_2/main/Data%20Storage/child-deaths-igme-data.csv'\n",
        "df_childMort = pd.read_csv(url, index_col=0)\n",
        "df_childMort.head()"
      ],
      "execution_count": 51,
      "outputs": [
        {
          "output_type": "execute_result",
          "data": {
            "text/html": [
              "<div>\n",
              "<style scoped>\n",
              "    .dataframe tbody tr th:only-of-type {\n",
              "        vertical-align: middle;\n",
              "    }\n",
              "\n",
              "    .dataframe tbody tr th {\n",
              "        vertical-align: top;\n",
              "    }\n",
              "\n",
              "    .dataframe thead th {\n",
              "        text-align: right;\n",
              "    }\n",
              "</style>\n",
              "<table border=\"1\" class=\"dataframe\">\n",
              "  <thead>\n",
              "    <tr style=\"text-align: right;\">\n",
              "      <th></th>\n",
              "      <th>Code</th>\n",
              "      <th>Year</th>\n",
              "      <th>Number of under-five deaths</th>\n",
              "    </tr>\n",
              "    <tr>\n",
              "      <th>Entity</th>\n",
              "      <th></th>\n",
              "      <th></th>\n",
              "      <th></th>\n",
              "    </tr>\n",
              "  </thead>\n",
              "  <tbody>\n",
              "    <tr>\n",
              "      <th>Afghanistan</th>\n",
              "      <td>AFG</td>\n",
              "      <td>1967</td>\n",
              "      <td>161588</td>\n",
              "    </tr>\n",
              "    <tr>\n",
              "      <th>Afghanistan</th>\n",
              "      <td>AFG</td>\n",
              "      <td>1968</td>\n",
              "      <td>162629</td>\n",
              "    </tr>\n",
              "    <tr>\n",
              "      <th>Afghanistan</th>\n",
              "      <td>AFG</td>\n",
              "      <td>1969</td>\n",
              "      <td>163529</td>\n",
              "    </tr>\n",
              "    <tr>\n",
              "      <th>Afghanistan</th>\n",
              "      <td>AFG</td>\n",
              "      <td>1970</td>\n",
              "      <td>164463</td>\n",
              "    </tr>\n",
              "    <tr>\n",
              "      <th>Afghanistan</th>\n",
              "      <td>AFG</td>\n",
              "      <td>1971</td>\n",
              "      <td>165306</td>\n",
              "    </tr>\n",
              "  </tbody>\n",
              "</table>\n",
              "</div>"
            ],
            "text/plain": [
              "            Code  Year  Number of under-five deaths\n",
              "Entity                                             \n",
              "Afghanistan  AFG  1967                       161588\n",
              "Afghanistan  AFG  1968                       162629\n",
              "Afghanistan  AFG  1969                       163529\n",
              "Afghanistan  AFG  1970                       164463\n",
              "Afghanistan  AFG  1971                       165306"
            ]
          },
          "metadata": {},
          "execution_count": 51
        }
      ]
    },
    {
      "cell_type": "markdown",
      "metadata": {
        "id": "CFJbXX2yZY8M"
      },
      "source": [
        "## Birth rate vs Death rate Upload"
      ]
    },
    {
      "cell_type": "code",
      "metadata": {
        "colab": {
          "base_uri": "https://localhost:8080/",
          "height": 237
        },
        "id": "uVzuiZPMZYo6",
        "outputId": "a0e50bd4-9cab-4331-ab03-a5137279c3e7"
      },
      "source": [
        "url = 'https://raw.githubusercontent.com/MaxSMCON/Group_2/main/Data%20Storage/birth-rate-vs-death-rate.csv'\n",
        "df_BirthDeathRate = pd.read_csv(url, index_col=0)\n",
        "df_BirthDeathRate.head()"
      ],
      "execution_count": 52,
      "outputs": [
        {
          "output_type": "execute_result",
          "data": {
            "text/html": [
              "<div>\n",
              "<style scoped>\n",
              "    .dataframe tbody tr th:only-of-type {\n",
              "        vertical-align: middle;\n",
              "    }\n",
              "\n",
              "    .dataframe tbody tr th {\n",
              "        vertical-align: top;\n",
              "    }\n",
              "\n",
              "    .dataframe thead th {\n",
              "        text-align: right;\n",
              "    }\n",
              "</style>\n",
              "<table border=\"1\" class=\"dataframe\">\n",
              "  <thead>\n",
              "    <tr style=\"text-align: right;\">\n",
              "      <th></th>\n",
              "      <th>Code</th>\n",
              "      <th>Year</th>\n",
              "      <th>Death rate, crude (per 1,000 people)</th>\n",
              "      <th>Birth rate, crude (per 1,000 people)</th>\n",
              "      <th>Population (historical estimates)</th>\n",
              "      <th>Continent</th>\n",
              "    </tr>\n",
              "    <tr>\n",
              "      <th>Entity</th>\n",
              "      <th></th>\n",
              "      <th></th>\n",
              "      <th></th>\n",
              "      <th></th>\n",
              "      <th></th>\n",
              "      <th></th>\n",
              "    </tr>\n",
              "  </thead>\n",
              "  <tbody>\n",
              "    <tr>\n",
              "      <th>Abkhazia</th>\n",
              "      <td>OWID_ABK</td>\n",
              "      <td>2015</td>\n",
              "      <td>NaN</td>\n",
              "      <td>NaN</td>\n",
              "      <td>NaN</td>\n",
              "      <td>Asia</td>\n",
              "    </tr>\n",
              "    <tr>\n",
              "      <th>Afghanistan</th>\n",
              "      <td>AFG</td>\n",
              "      <td>1960</td>\n",
              "      <td>32.219</td>\n",
              "      <td>51.279</td>\n",
              "      <td>8996967.0</td>\n",
              "      <td>NaN</td>\n",
              "    </tr>\n",
              "    <tr>\n",
              "      <th>Afghanistan</th>\n",
              "      <td>AFG</td>\n",
              "      <td>1961</td>\n",
              "      <td>31.649</td>\n",
              "      <td>51.373</td>\n",
              "      <td>9169406.0</td>\n",
              "      <td>NaN</td>\n",
              "    </tr>\n",
              "    <tr>\n",
              "      <th>Afghanistan</th>\n",
              "      <td>AFG</td>\n",
              "      <td>1962</td>\n",
              "      <td>31.093</td>\n",
              "      <td>51.457</td>\n",
              "      <td>9351442.0</td>\n",
              "      <td>NaN</td>\n",
              "    </tr>\n",
              "    <tr>\n",
              "      <th>Afghanistan</th>\n",
              "      <td>AFG</td>\n",
              "      <td>1963</td>\n",
              "      <td>30.551</td>\n",
              "      <td>51.530</td>\n",
              "      <td>9543200.0</td>\n",
              "      <td>NaN</td>\n",
              "    </tr>\n",
              "  </tbody>\n",
              "</table>\n",
              "</div>"
            ],
            "text/plain": [
              "                 Code  Year  ...  Population (historical estimates)  Continent\n",
              "Entity                       ...                                              \n",
              "Abkhazia     OWID_ABK  2015  ...                                NaN       Asia\n",
              "Afghanistan       AFG  1960  ...                          8996967.0        NaN\n",
              "Afghanistan       AFG  1961  ...                          9169406.0        NaN\n",
              "Afghanistan       AFG  1962  ...                          9351442.0        NaN\n",
              "Afghanistan       AFG  1963  ...                          9543200.0        NaN\n",
              "\n",
              "[5 rows x 6 columns]"
            ]
          },
          "metadata": {},
          "execution_count": 52
        }
      ]
    },
    {
      "cell_type": "markdown",
      "metadata": {
        "id": "x1lJLgxWWzs_"
      },
      "source": [
        "## Create Date Column"
      ]
    },
    {
      "cell_type": "code",
      "metadata": {
        "id": "Yq7q80hBlx6q"
      },
      "source": [
        "# Create a Date Column\n",
        "df[\"Date\"] = [  y+ \" \" +x for x,y in list(zip(df[\"mp_month\"].astype(str).values, df[\"mp_year\"].astype(str).values)) ]\n",
        "df[\"Date\"] = pd.to_datetime(df[\"Date\"])"
      ],
      "execution_count": 44,
      "outputs": []
    },
    {
      "cell_type": "code",
      "metadata": {
        "id": "wNPlXTgoW395"
      },
      "source": [
        "df = df.set_index(\"Date\")"
      ],
      "execution_count": 48,
      "outputs": []
    },
    {
      "cell_type": "markdown",
      "metadata": {
        "id": "Pvat6T9mna77"
      },
      "source": [
        "## Renaming columns"
      ]
    },
    {
      "cell_type": "code",
      "metadata": {
        "id": "XiXDEaLXbg7f"
      },
      "source": [
        "df = df.rename(columns = {'adm0_name' : 'Country', 'mkt_name': 'city',} )\n",
        "df = df.drop(columns= {'adm1_name'})\n",
        "df.head()"
      ],
      "execution_count": null,
      "outputs": []
    },
    {
      "cell_type": "markdown",
      "metadata": {
        "id": "PXUdfU8Qik-Y"
      },
      "source": [
        "## Leaving comodity names with the first words"
      ]
    },
    {
      "cell_type": "code",
      "metadata": {
        "colab": {
          "base_uri": "https://localhost:8080/"
        },
        "id": "BiLfZsMfeXxf",
        "outputId": "4f77e272-ab96-404f-e455-eb68bfb51f57"
      },
      "source": [
        "df['cm_name'] = df['cm_name'].str.split(\" \", 1, expand = True)\n",
        "df['cm_name'].head()"
      ],
      "execution_count": 37,
      "outputs": [
        {
          "output_type": "execute_result",
          "data": {
            "text/plain": [
              "0    Bread\n",
              "1    Bread\n",
              "2    Bread\n",
              "3    Bread\n",
              "4    Bread\n",
              "Name: cm_name, dtype: object"
            ]
          },
          "metadata": {},
          "execution_count": 37
        }
      ]
    },
    {
      "cell_type": "code",
      "metadata": {
        "colab": {
          "base_uri": "https://localhost:8080/",
          "height": 206
        },
        "id": "RR18rtt0ifP-",
        "outputId": "08c139a8-5010-465d-9f5d-2196c375372e"
      },
      "source": [
        "df.head()"
      ],
      "execution_count": 38,
      "outputs": [
        {
          "output_type": "execute_result",
          "data": {
            "text/html": [
              "<div>\n",
              "<style scoped>\n",
              "    .dataframe tbody tr th:only-of-type {\n",
              "        vertical-align: middle;\n",
              "    }\n",
              "\n",
              "    .dataframe tbody tr th {\n",
              "        vertical-align: top;\n",
              "    }\n",
              "\n",
              "    .dataframe thead th {\n",
              "        text-align: right;\n",
              "    }\n",
              "</style>\n",
              "<table border=\"1\" class=\"dataframe\">\n",
              "  <thead>\n",
              "    <tr style=\"text-align: right;\">\n",
              "      <th></th>\n",
              "      <th>adm0_id</th>\n",
              "      <th>Country</th>\n",
              "      <th>adm1_id</th>\n",
              "      <th>mkt_id</th>\n",
              "      <th>city</th>\n",
              "      <th>cm_id</th>\n",
              "      <th>cm_name</th>\n",
              "      <th>cur_id</th>\n",
              "      <th>cur_name</th>\n",
              "      <th>pt_id</th>\n",
              "      <th>pt_name</th>\n",
              "      <th>um_id</th>\n",
              "      <th>um_name</th>\n",
              "      <th>mp_month</th>\n",
              "      <th>mp_year</th>\n",
              "      <th>mp_price</th>\n",
              "      <th>mp_commoditysource</th>\n",
              "    </tr>\n",
              "  </thead>\n",
              "  <tbody>\n",
              "    <tr>\n",
              "      <th>0</th>\n",
              "      <td>1.0</td>\n",
              "      <td>Afghanistan</td>\n",
              "      <td>272</td>\n",
              "      <td>266</td>\n",
              "      <td>Fayzabad</td>\n",
              "      <td>55</td>\n",
              "      <td>Bread</td>\n",
              "      <td>0.0</td>\n",
              "      <td>AFN</td>\n",
              "      <td>15</td>\n",
              "      <td>Retail</td>\n",
              "      <td>5</td>\n",
              "      <td>KG</td>\n",
              "      <td>1</td>\n",
              "      <td>2014</td>\n",
              "      <td>50.0</td>\n",
              "      <td>NaN</td>\n",
              "    </tr>\n",
              "    <tr>\n",
              "      <th>1</th>\n",
              "      <td>1.0</td>\n",
              "      <td>Afghanistan</td>\n",
              "      <td>272</td>\n",
              "      <td>266</td>\n",
              "      <td>Fayzabad</td>\n",
              "      <td>55</td>\n",
              "      <td>Bread</td>\n",
              "      <td>0.0</td>\n",
              "      <td>AFN</td>\n",
              "      <td>15</td>\n",
              "      <td>Retail</td>\n",
              "      <td>5</td>\n",
              "      <td>KG</td>\n",
              "      <td>2</td>\n",
              "      <td>2014</td>\n",
              "      <td>50.0</td>\n",
              "      <td>NaN</td>\n",
              "    </tr>\n",
              "    <tr>\n",
              "      <th>2</th>\n",
              "      <td>1.0</td>\n",
              "      <td>Afghanistan</td>\n",
              "      <td>272</td>\n",
              "      <td>266</td>\n",
              "      <td>Fayzabad</td>\n",
              "      <td>55</td>\n",
              "      <td>Bread</td>\n",
              "      <td>0.0</td>\n",
              "      <td>AFN</td>\n",
              "      <td>15</td>\n",
              "      <td>Retail</td>\n",
              "      <td>5</td>\n",
              "      <td>KG</td>\n",
              "      <td>3</td>\n",
              "      <td>2014</td>\n",
              "      <td>50.0</td>\n",
              "      <td>NaN</td>\n",
              "    </tr>\n",
              "    <tr>\n",
              "      <th>3</th>\n",
              "      <td>1.0</td>\n",
              "      <td>Afghanistan</td>\n",
              "      <td>272</td>\n",
              "      <td>266</td>\n",
              "      <td>Fayzabad</td>\n",
              "      <td>55</td>\n",
              "      <td>Bread</td>\n",
              "      <td>0.0</td>\n",
              "      <td>AFN</td>\n",
              "      <td>15</td>\n",
              "      <td>Retail</td>\n",
              "      <td>5</td>\n",
              "      <td>KG</td>\n",
              "      <td>4</td>\n",
              "      <td>2014</td>\n",
              "      <td>50.0</td>\n",
              "      <td>NaN</td>\n",
              "    </tr>\n",
              "    <tr>\n",
              "      <th>4</th>\n",
              "      <td>1.0</td>\n",
              "      <td>Afghanistan</td>\n",
              "      <td>272</td>\n",
              "      <td>266</td>\n",
              "      <td>Fayzabad</td>\n",
              "      <td>55</td>\n",
              "      <td>Bread</td>\n",
              "      <td>0.0</td>\n",
              "      <td>AFN</td>\n",
              "      <td>15</td>\n",
              "      <td>Retail</td>\n",
              "      <td>5</td>\n",
              "      <td>KG</td>\n",
              "      <td>5</td>\n",
              "      <td>2014</td>\n",
              "      <td>50.0</td>\n",
              "      <td>NaN</td>\n",
              "    </tr>\n",
              "  </tbody>\n",
              "</table>\n",
              "</div>"
            ],
            "text/plain": [
              "   adm0_id      Country  adm1_id  ...  mp_year mp_price  mp_commoditysource\n",
              "0      1.0  Afghanistan      272  ...     2014     50.0                 NaN\n",
              "1      1.0  Afghanistan      272  ...     2014     50.0                 NaN\n",
              "2      1.0  Afghanistan      272  ...     2014     50.0                 NaN\n",
              "3      1.0  Afghanistan      272  ...     2014     50.0                 NaN\n",
              "4      1.0  Afghanistan      272  ...     2014     50.0                 NaN\n",
              "\n",
              "[5 rows x 17 columns]"
            ]
          },
          "metadata": {},
          "execution_count": 38
        }
      ]
    },
    {
      "cell_type": "markdown",
      "metadata": {
        "id": "10_UU7VOVIE2"
      },
      "source": [
        "## Retail prices"
      ]
    },
    {
      "cell_type": "code",
      "metadata": {
        "id": "mjCzczh0n3Z2",
        "colab": {
          "base_uri": "https://localhost:8080/"
        },
        "outputId": "86af73df-7588-4556-fcb2-360fb06d4188"
      },
      "source": [
        "df_retail = df.loc[df['pt_name'] == 'Retail']\n",
        "df_retail.nunique()"
      ],
      "execution_count": 46,
      "outputs": [
        {
          "output_type": "execute_result",
          "data": {
            "text/plain": [
              "adm0_id                   89\n",
              "Country                   89\n",
              "adm1_id                  818\n",
              "mkt_id                  3083\n",
              "city                    3058\n",
              "cm_id                    587\n",
              "cm_name                  148\n",
              "cur_id                     1\n",
              "cur_name                  76\n",
              "pt_id                      1\n",
              "pt_name                    1\n",
              "um_id                    103\n",
              "um_name                  103\n",
              "mp_month                  12\n",
              "mp_year                   32\n",
              "mp_price              213111\n",
              "mp_commoditysource         0\n",
              "Date                     380\n",
              "dtype: int64"
            ]
          },
          "metadata": {},
          "execution_count": 46
        }
      ]
    },
    {
      "cell_type": "markdown",
      "metadata": {
        "id": "pcjnTdVLqNmM"
      },
      "source": [
        "## Currency Conversion Table"
      ]
    },
    {
      "cell_type": "code",
      "metadata": {
        "id": "7XO7kxYovZU8"
      },
      "source": [
        ""
      ],
      "execution_count": null,
      "outputs": []
    },
    {
      "cell_type": "code",
      "metadata": {
        "id": "3xJmkRlqqSjw",
        "outputId": "9af3f2b9-7c67-4816-8450-96843758a2e4",
        "colab": {
          "base_uri": "https://localhost:8080/"
        }
      },
      "source": [
        "df_currency = df.loc[df['cm_name'] == 'Exchange']\n",
        "df_currency.nunique()"
      ],
      "execution_count": 53,
      "outputs": [
        {
          "output_type": "execute_result",
          "data": {
            "text/plain": [
              "adm0_id                 16\n",
              "Country                 16\n",
              "adm1_id                146\n",
              "mkt_id                 329\n",
              "city                   323\n",
              "cm_id                    2\n",
              "cm_name                  1\n",
              "cur_id                   1\n",
              "cur_name                16\n",
              "pt_id                    1\n",
              "pt_name                  1\n",
              "um_id                    1\n",
              "um_name                  1\n",
              "mp_month                12\n",
              "mp_year                 11\n",
              "mp_price              3351\n",
              "mp_commoditysource       0\n",
              "dtype: int64"
            ]
          },
          "metadata": {},
          "execution_count": 53
        }
      ]
    },
    {
      "cell_type": "markdown",
      "metadata": {
        "id": "wXM5n2JCnyq9"
      },
      "source": [
        "## Reshaping table"
      ]
    },
    {
      "cell_type": "code",
      "metadata": {
        "id": "DTNQ1I2Xn4RA"
      },
      "source": [
        "# Pivoting tables under construction\n",
        "# df = df.pivot(columns = 'cm_name', values = 'pt_id')\n",
        "# df.head()"
      ],
      "execution_count": 16,
      "outputs": []
    },
    {
      "cell_type": "markdown",
      "metadata": {
        "id": "ryzBl6TSmCpv"
      },
      "source": [
        "## Merging food prices with country region"
      ]
    },
    {
      "cell_type": "code",
      "metadata": {
        "colab": {
          "base_uri": "https://localhost:8080/",
          "height": 313
        },
        "id": "qMPmYP-jmLCW",
        "outputId": "a69d36de-6b3a-4784-8dbf-715ba8409ea9"
      },
      "source": [
        "\n",
        "df5 = pd.merge(\n",
        "    df_retail,\n",
        "    df_region,\n",
        "    # left_on=('Country'),\n",
        "    # right_on=('Country'),\n",
        "    \n",
        "    how='left',\n",
        "    on = 'Country',\n",
        "    validate = 'many_to_one'\n",
        ")\n",
        "df5.head()"
      ],
      "execution_count": 47,
      "outputs": [
        {
          "output_type": "execute_result",
          "data": {
            "text/html": [
              "<div>\n",
              "<style scoped>\n",
              "    .dataframe tbody tr th:only-of-type {\n",
              "        vertical-align: middle;\n",
              "    }\n",
              "\n",
              "    .dataframe tbody tr th {\n",
              "        vertical-align: top;\n",
              "    }\n",
              "\n",
              "    .dataframe thead th {\n",
              "        text-align: right;\n",
              "    }\n",
              "</style>\n",
              "<table border=\"1\" class=\"dataframe\">\n",
              "  <thead>\n",
              "    <tr style=\"text-align: right;\">\n",
              "      <th></th>\n",
              "      <th>adm0_id</th>\n",
              "      <th>Country</th>\n",
              "      <th>adm1_id</th>\n",
              "      <th>mkt_id</th>\n",
              "      <th>city</th>\n",
              "      <th>cm_id</th>\n",
              "      <th>cm_name</th>\n",
              "      <th>cur_id</th>\n",
              "      <th>cur_name</th>\n",
              "      <th>pt_id</th>\n",
              "      <th>pt_name</th>\n",
              "      <th>um_id</th>\n",
              "      <th>um_name</th>\n",
              "      <th>mp_month</th>\n",
              "      <th>mp_year</th>\n",
              "      <th>mp_price</th>\n",
              "      <th>mp_commoditysource</th>\n",
              "      <th>Date</th>\n",
              "      <th>Continent</th>\n",
              "      <th>Region</th>\n",
              "    </tr>\n",
              "  </thead>\n",
              "  <tbody>\n",
              "    <tr>\n",
              "      <th>0</th>\n",
              "      <td>1.0</td>\n",
              "      <td>Afghanistan</td>\n",
              "      <td>272</td>\n",
              "      <td>266</td>\n",
              "      <td>Fayzabad</td>\n",
              "      <td>55</td>\n",
              "      <td>Bread</td>\n",
              "      <td>0.0</td>\n",
              "      <td>AFN</td>\n",
              "      <td>15</td>\n",
              "      <td>Retail</td>\n",
              "      <td>5</td>\n",
              "      <td>KG</td>\n",
              "      <td>1</td>\n",
              "      <td>2014</td>\n",
              "      <td>50.0</td>\n",
              "      <td>NaN</td>\n",
              "      <td>2014-01-01</td>\n",
              "      <td>Asia</td>\n",
              "      <td>Southern Asia</td>\n",
              "    </tr>\n",
              "    <tr>\n",
              "      <th>1</th>\n",
              "      <td>1.0</td>\n",
              "      <td>Afghanistan</td>\n",
              "      <td>272</td>\n",
              "      <td>266</td>\n",
              "      <td>Fayzabad</td>\n",
              "      <td>55</td>\n",
              "      <td>Bread</td>\n",
              "      <td>0.0</td>\n",
              "      <td>AFN</td>\n",
              "      <td>15</td>\n",
              "      <td>Retail</td>\n",
              "      <td>5</td>\n",
              "      <td>KG</td>\n",
              "      <td>2</td>\n",
              "      <td>2014</td>\n",
              "      <td>50.0</td>\n",
              "      <td>NaN</td>\n",
              "      <td>2014-02-01</td>\n",
              "      <td>Asia</td>\n",
              "      <td>Southern Asia</td>\n",
              "    </tr>\n",
              "    <tr>\n",
              "      <th>2</th>\n",
              "      <td>1.0</td>\n",
              "      <td>Afghanistan</td>\n",
              "      <td>272</td>\n",
              "      <td>266</td>\n",
              "      <td>Fayzabad</td>\n",
              "      <td>55</td>\n",
              "      <td>Bread</td>\n",
              "      <td>0.0</td>\n",
              "      <td>AFN</td>\n",
              "      <td>15</td>\n",
              "      <td>Retail</td>\n",
              "      <td>5</td>\n",
              "      <td>KG</td>\n",
              "      <td>3</td>\n",
              "      <td>2014</td>\n",
              "      <td>50.0</td>\n",
              "      <td>NaN</td>\n",
              "      <td>2014-03-01</td>\n",
              "      <td>Asia</td>\n",
              "      <td>Southern Asia</td>\n",
              "    </tr>\n",
              "    <tr>\n",
              "      <th>3</th>\n",
              "      <td>1.0</td>\n",
              "      <td>Afghanistan</td>\n",
              "      <td>272</td>\n",
              "      <td>266</td>\n",
              "      <td>Fayzabad</td>\n",
              "      <td>55</td>\n",
              "      <td>Bread</td>\n",
              "      <td>0.0</td>\n",
              "      <td>AFN</td>\n",
              "      <td>15</td>\n",
              "      <td>Retail</td>\n",
              "      <td>5</td>\n",
              "      <td>KG</td>\n",
              "      <td>4</td>\n",
              "      <td>2014</td>\n",
              "      <td>50.0</td>\n",
              "      <td>NaN</td>\n",
              "      <td>2014-04-01</td>\n",
              "      <td>Asia</td>\n",
              "      <td>Southern Asia</td>\n",
              "    </tr>\n",
              "    <tr>\n",
              "      <th>4</th>\n",
              "      <td>1.0</td>\n",
              "      <td>Afghanistan</td>\n",
              "      <td>272</td>\n",
              "      <td>266</td>\n",
              "      <td>Fayzabad</td>\n",
              "      <td>55</td>\n",
              "      <td>Bread</td>\n",
              "      <td>0.0</td>\n",
              "      <td>AFN</td>\n",
              "      <td>15</td>\n",
              "      <td>Retail</td>\n",
              "      <td>5</td>\n",
              "      <td>KG</td>\n",
              "      <td>5</td>\n",
              "      <td>2014</td>\n",
              "      <td>50.0</td>\n",
              "      <td>NaN</td>\n",
              "      <td>2014-05-01</td>\n",
              "      <td>Asia</td>\n",
              "      <td>Southern Asia</td>\n",
              "    </tr>\n",
              "  </tbody>\n",
              "</table>\n",
              "</div>"
            ],
            "text/plain": [
              "   adm0_id      Country  adm1_id  ...       Date Continent         Region\n",
              "0      1.0  Afghanistan      272  ... 2014-01-01      Asia  Southern Asia\n",
              "1      1.0  Afghanistan      272  ... 2014-02-01      Asia  Southern Asia\n",
              "2      1.0  Afghanistan      272  ... 2014-03-01      Asia  Southern Asia\n",
              "3      1.0  Afghanistan      272  ... 2014-04-01      Asia  Southern Asia\n",
              "4      1.0  Afghanistan      272  ... 2014-05-01      Asia  Southern Asia\n",
              "\n",
              "[5 rows x 20 columns]"
            ]
          },
          "metadata": {},
          "execution_count": 47
        }
      ]
    },
    {
      "cell_type": "code",
      "metadata": {
        "colab": {
          "base_uri": "https://localhost:8080/"
        },
        "id": "SagT107w0TSD",
        "outputId": "b2629498-67cc-424e-d371-33f6876f376d"
      },
      "source": [
        "# Merge Check\n",
        "print(df_retail.shape)\n",
        "df5.shape"
      ],
      "execution_count": 42,
      "outputs": [
        {
          "output_type": "stream",
          "name": "stdout",
          "text": [
            "(1878421, 17)\n"
          ]
        },
        {
          "output_type": "execute_result",
          "data": {
            "text/plain": [
              "(1878421, 19)"
            ]
          },
          "metadata": {},
          "execution_count": 42
        }
      ]
    },
    {
      "cell_type": "markdown",
      "metadata": {
        "id": "EzLpeL4t2Rvd"
      },
      "source": [
        ""
      ]
    },
    {
      "cell_type": "code",
      "metadata": {
        "colab": {
          "base_uri": "https://localhost:8080/"
        },
        "id": "LSCSUM322SbN",
        "outputId": "b8c6b556-6175-4648-a29d-0361baf4ac0f"
      },
      "source": [
        "df5.isnull().sum()"
      ],
      "execution_count": 43,
      "outputs": [
        {
          "output_type": "execute_result",
          "data": {
            "text/plain": [
              "adm0_id                     0\n",
              "Country                     0\n",
              "adm1_id                     0\n",
              "mkt_id                      0\n",
              "city                        0\n",
              "cm_id                       0\n",
              "cm_name                     0\n",
              "cur_id                      0\n",
              "cur_name                    0\n",
              "pt_id                       0\n",
              "pt_name                     0\n",
              "um_id                       0\n",
              "um_name                     0\n",
              "mp_month                    0\n",
              "mp_year                     0\n",
              "mp_price                    0\n",
              "mp_commoditysource    1878421\n",
              "Continent              162596\n",
              "Region                 162596\n",
              "dtype: int64"
            ]
          },
          "metadata": {},
          "execution_count": 43
        }
      ]
    },
    {
      "cell_type": "markdown",
      "metadata": {
        "id": "AbnJKp8PjFeN"
      },
      "source": [
        "## Group by Continent, Region, Country"
      ]
    },
    {
      "cell_type": "markdown",
      "metadata": {
        "id": "7bN7lThVlMwa"
      },
      "source": [
        ""
      ]
    },
    {
      "cell_type": "code",
      "metadata": {
        "colab": {
          "base_uri": "https://localhost:8080/",
          "height": 520
        },
        "id": "o2sJCLkh2WTm",
        "outputId": "fce1aecd-f612-4b67-84a7-0419f3dbcf62"
      },
      "source": [
        "df5.groupby(['Continent', 'Region', \n",
        "            #  'Country'\n",
        "             ])['mp_price'].agg({'mean', 'count', 'std'}).round(1)\n"
      ],
      "execution_count": 20,
      "outputs": [
        {
          "output_type": "execute_result",
          "data": {
            "text/html": [
              "<div>\n",
              "<style scoped>\n",
              "    .dataframe tbody tr th:only-of-type {\n",
              "        vertical-align: middle;\n",
              "    }\n",
              "\n",
              "    .dataframe tbody tr th {\n",
              "        vertical-align: top;\n",
              "    }\n",
              "\n",
              "    .dataframe thead th {\n",
              "        text-align: right;\n",
              "    }\n",
              "</style>\n",
              "<table border=\"1\" class=\"dataframe\">\n",
              "  <thead>\n",
              "    <tr style=\"text-align: right;\">\n",
              "      <th></th>\n",
              "      <th></th>\n",
              "      <th>count</th>\n",
              "      <th>std</th>\n",
              "      <th>mean</th>\n",
              "    </tr>\n",
              "    <tr>\n",
              "      <th>Continent</th>\n",
              "      <th>Region</th>\n",
              "      <th></th>\n",
              "      <th></th>\n",
              "      <th></th>\n",
              "    </tr>\n",
              "  </thead>\n",
              "  <tbody>\n",
              "    <tr>\n",
              "      <th rowspan=\"5\" valign=\"top\">Africa</th>\n",
              "      <th>Eastern Africa</th>\n",
              "      <td>456211</td>\n",
              "      <td>200607.9</td>\n",
              "      <td>8591.3</td>\n",
              "    </tr>\n",
              "    <tr>\n",
              "      <th>Middle Africa</th>\n",
              "      <td>108177</td>\n",
              "      <td>11309.2</td>\n",
              "      <td>4940.1</td>\n",
              "    </tr>\n",
              "    <tr>\n",
              "      <th>Northern Africa</th>\n",
              "      <td>55194</td>\n",
              "      <td>629.2</td>\n",
              "      <td>80.4</td>\n",
              "    </tr>\n",
              "    <tr>\n",
              "      <th>Southern Africa</th>\n",
              "      <td>17301</td>\n",
              "      <td>26.0</td>\n",
              "      <td>22.5</td>\n",
              "    </tr>\n",
              "    <tr>\n",
              "      <th>Western Africa</th>\n",
              "      <td>442056</td>\n",
              "      <td>10232.6</td>\n",
              "      <td>2266.6</td>\n",
              "    </tr>\n",
              "    <tr>\n",
              "      <th rowspan=\"3\" valign=\"top\">Americas</th>\n",
              "      <th>Caribbean</th>\n",
              "      <td>15768</td>\n",
              "      <td>596.8</td>\n",
              "      <td>275.3</td>\n",
              "    </tr>\n",
              "    <tr>\n",
              "      <th>Central America</th>\n",
              "      <td>28219</td>\n",
              "      <td>331.4</td>\n",
              "      <td>164.1</td>\n",
              "    </tr>\n",
              "    <tr>\n",
              "      <th>South America</th>\n",
              "      <td>36158</td>\n",
              "      <td>302309.7</td>\n",
              "      <td>37776.9</td>\n",
              "    </tr>\n",
              "    <tr>\n",
              "      <th rowspan=\"5\" valign=\"top\">Asia</th>\n",
              "      <th>Central Asia</th>\n",
              "      <td>92700</td>\n",
              "      <td>139.2</td>\n",
              "      <td>77.5</td>\n",
              "    </tr>\n",
              "    <tr>\n",
              "      <th>Eastern Asia</th>\n",
              "      <td>6376</td>\n",
              "      <td>2582.5</td>\n",
              "      <td>1960.8</td>\n",
              "    </tr>\n",
              "    <tr>\n",
              "      <th>South-eastern Asia</th>\n",
              "      <td>236009</td>\n",
              "      <td>24581.1</td>\n",
              "      <td>14565.9</td>\n",
              "    </tr>\n",
              "    <tr>\n",
              "      <th>Southern Asia</th>\n",
              "      <td>56013</td>\n",
              "      <td>117271.5</td>\n",
              "      <td>6494.1</td>\n",
              "    </tr>\n",
              "    <tr>\n",
              "      <th>Western Asia</th>\n",
              "      <td>299791</td>\n",
              "      <td>49916.4</td>\n",
              "      <td>8124.0</td>\n",
              "    </tr>\n",
              "    <tr>\n",
              "      <th>Europe</th>\n",
              "      <th>Eastern Europe</th>\n",
              "      <td>30615</td>\n",
              "      <td>27.8</td>\n",
              "      <td>27.0</td>\n",
              "    </tr>\n",
              "  </tbody>\n",
              "</table>\n",
              "</div>"
            ],
            "text/plain": [
              "                               count       std     mean\n",
              "Continent Region                                       \n",
              "Africa    Eastern Africa      456211  200607.9   8591.3\n",
              "          Middle Africa       108177   11309.2   4940.1\n",
              "          Northern Africa      55194     629.2     80.4\n",
              "          Southern Africa      17301      26.0     22.5\n",
              "          Western Africa      442056   10232.6   2266.6\n",
              "Americas  Caribbean            15768     596.8    275.3\n",
              "          Central America      28219     331.4    164.1\n",
              "          South America        36158  302309.7  37776.9\n",
              "Asia      Central Asia         92700     139.2     77.5\n",
              "          Eastern Asia          6376    2582.5   1960.8\n",
              "          South-eastern Asia  236009   24581.1  14565.9\n",
              "          Southern Asia        56013  117271.5   6494.1\n",
              "          Western Asia        299791   49916.4   8124.0\n",
              "Europe    Eastern Europe       30615      27.8     27.0"
            ]
          },
          "metadata": {},
          "execution_count": 20
        }
      ]
    },
    {
      "cell_type": "markdown",
      "metadata": {
        "id": "4vij-OGPYeiR"
      },
      "source": [
        "# Visual Inspection"
      ]
    },
    {
      "cell_type": "markdown",
      "metadata": {
        "id": "5aTUvQFL3t6B"
      },
      "source": [
        "<li> Dollar convertion as of today for better representation"
      ]
    },
    {
      "cell_type": "code",
      "metadata": {
        "colab": {
          "base_uri": "https://localhost:8080/",
          "height": 1000
        },
        "id": "-rwnn0FxXQZj",
        "outputId": "52d34622-d0c3-426b-f682-af3e859f4082"
      },
      "source": [
        "plt.figure()\n",
        "df5.plot(subplots=True, figsize=(20,20))\n",
        "plt.xlabel(\"Date\");"
      ],
      "execution_count": 49,
      "outputs": [
        {
          "output_type": "display_data",
          "data": {
            "text/plain": [
              "<Figure size 432x288 with 0 Axes>"
            ]
          },
          "metadata": {}
        },
        {
          "output_type": "display_data",
          "data": {
            "image/png": "[encoded data removed]",
            "text/plain": [
              "<Figure size 1440x1440 with 12 Axes>"
            ]
          },
          "metadata": {
            "needs_background": "light"
          }
        }
      ]
    },
    {
      "cell_type": "code",
      "metadata": {
        "colab": {
          "base_uri": "https://localhost:8080/",
          "height": 708
        },
        "id": "6Q5l406TYFqs",
        "outputId": "8173874b-5e18-4e00-e629-b97ebc9aca0d"
      },
      "source": [
        "df_cm = df5.corr(method = 'spearman')\n",
        "\n",
        "plt.figure(figsize=(15,10))\n",
        "ax = sns.heatmap(df_cm, cmap=\"seismic\", annot=True, linewidths=.5, cbar_kws={\"label\": \"Spearman's ρ\"}, vmin=-1, vmax=1);\n",
        "ax.set_title(\"Heat map\");"
      ],
      "execution_count": 50,
      "outputs": [
        {
          "output_type": "display_data",
          "data": {
            "image/png": "[encoded data removed]",
            "text/plain": [
              "<Figure size 1080x720 with 2 Axes>"
            ]
          },
          "metadata": {
            "needs_background": "light"
          }
        }
      ]
    }
  ]
}